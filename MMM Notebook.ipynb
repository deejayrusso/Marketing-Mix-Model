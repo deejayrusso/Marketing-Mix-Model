{
 "cells": [
  {
   "cell_type": "code",
   "execution_count": 26,
   "id": "7028dde8",
   "metadata": {},
   "outputs": [],
   "source": [
    "import pandas as pd\n",
    "import numpy as np\n",
    "import seaborn as sns\n",
    "import matplotlib.pyplot as plt\n",
    "%matplotlib inline\n",
    "\n",
    "from statsmodels.stats.outliers_influence import variance_inflation_factor"
   ]
  },
  {
   "cell_type": "code",
   "execution_count": 82,
   "id": "379bd9bb",
   "metadata": {},
   "outputs": [
    {
     "name": "stderr",
     "output_type": "stream",
     "text": [
      "C:\\Users\\djdit\\anaconda3\\lib\\site-packages\\IPython\\core\\interactiveshell.py:3437: DtypeWarning: Columns (4) have mixed types.Specify dtype option on import or set low_memory=False.\n",
      "  exec(code_obj, self.user_global_ns, self.user_ns)\n"
     ]
    }
   ],
   "source": [
    "#Load data\n",
    "transactions = pd.read_csv('/Users/djdit/OneDrive - University of South Florida/Project/Data/firstfile.csv')\n",
    "mediaInvestment = pd.read_csv('/Users/djdit/OneDrive - University of South Florida/Project/Data/MediaInvestment.csv')\n",
    "nps_score = pd.read_csv('/Users/djdit/OneDrive - University of South Florida/Project/Data/MonthlyNPSscore.csv')\n",
    "#remove sales? Not sure if needed...\n",
    "sales = pd.read_csv('/Users/djdit/OneDrive - University of South Florida/Project/Data/Sales.csv', sep='\\t')"
   ]
  },
  {
   "cell_type": "markdown",
   "id": "72f617fd",
   "metadata": {},
   "source": [
    "## Load and prep data"
   ]
  },
  {
   "cell_type": "code",
   "execution_count": 28,
   "id": "f236787c",
   "metadata": {
    "scrolled": false
   },
   "outputs": [
    {
     "data": {
      "text/html": [
       "<div>\n",
       "<style scoped>\n",
       "    .dataframe tbody tr th:only-of-type {\n",
       "        vertical-align: middle;\n",
       "    }\n",
       "\n",
       "    .dataframe tbody tr th {\n",
       "        vertical-align: top;\n",
       "    }\n",
       "\n",
       "    .dataframe thead th {\n",
       "        text-align: right;\n",
       "    }\n",
       "</style>\n",
       "<table border=\"1\" class=\"dataframe\">\n",
       "  <thead>\n",
       "    <tr style=\"text-align: right;\">\n",
       "      <th></th>\n",
       "      <th>Unnamed: 0</th>\n",
       "      <th>Date</th>\n",
       "      <th>Sales_name</th>\n",
       "      <th>gmv_new</th>\n",
       "      <th>units</th>\n",
       "      <th>product_mrp</th>\n",
       "      <th>discount</th>\n",
       "      <th>product_category</th>\n",
       "      <th>product_subcategory</th>\n",
       "      <th>product_vertical</th>\n",
       "    </tr>\n",
       "  </thead>\n",
       "  <tbody>\n",
       "    <tr>\n",
       "      <th>0</th>\n",
       "      <td>1</td>\n",
       "      <td>2015-07-01</td>\n",
       "      <td>No Promotion</td>\n",
       "      <td>3040.0</td>\n",
       "      <td>1</td>\n",
       "      <td>3650.0</td>\n",
       "      <td>610.0</td>\n",
       "      <td>EntertainmentSmall</td>\n",
       "      <td>HomeAudio</td>\n",
       "      <td>HomeAudioSpeaker</td>\n",
       "    </tr>\n",
       "    <tr>\n",
       "      <th>1</th>\n",
       "      <td>2</td>\n",
       "      <td>2015-07-01</td>\n",
       "      <td>No Promotion</td>\n",
       "      <td>310.0</td>\n",
       "      <td>1</td>\n",
       "      <td>400.0</td>\n",
       "      <td>90.0</td>\n",
       "      <td>EntertainmentSmall</td>\n",
       "      <td>Speaker</td>\n",
       "      <td>LaptopSpeaker</td>\n",
       "    </tr>\n",
       "    <tr>\n",
       "      <th>2</th>\n",
       "      <td>3</td>\n",
       "      <td>2015-07-01</td>\n",
       "      <td>No Promotion</td>\n",
       "      <td>1999.0</td>\n",
       "      <td>1</td>\n",
       "      <td>7999.0</td>\n",
       "      <td>6000.0</td>\n",
       "      <td>GamingHardware</td>\n",
       "      <td>GamingAccessory</td>\n",
       "      <td>GamePad</td>\n",
       "    </tr>\n",
       "    <tr>\n",
       "      <th>3</th>\n",
       "      <td>4</td>\n",
       "      <td>2015-07-01</td>\n",
       "      <td>No Promotion</td>\n",
       "      <td>139.0</td>\n",
       "      <td>1</td>\n",
       "      <td>700.0</td>\n",
       "      <td>561.0</td>\n",
       "      <td>EntertainmentSmall</td>\n",
       "      <td>TVVideoSmall</td>\n",
       "      <td>RemoteControl</td>\n",
       "    </tr>\n",
       "    <tr>\n",
       "      <th>4</th>\n",
       "      <td>5</td>\n",
       "      <td>2015-07-01</td>\n",
       "      <td>No Promotion</td>\n",
       "      <td>99.0</td>\n",
       "      <td>1</td>\n",
       "      <td>700.0</td>\n",
       "      <td>601.0</td>\n",
       "      <td>EntertainmentSmall</td>\n",
       "      <td>TVVideoSmall</td>\n",
       "      <td>RemoteControl</td>\n",
       "    </tr>\n",
       "  </tbody>\n",
       "</table>\n",
       "</div>"
      ],
      "text/plain": [
       "   Unnamed: 0        Date    Sales_name  gmv_new  units  product_mrp  \\\n",
       "0           1  2015-07-01  No Promotion   3040.0      1       3650.0   \n",
       "1           2  2015-07-01  No Promotion    310.0      1        400.0   \n",
       "2           3  2015-07-01  No Promotion   1999.0      1       7999.0   \n",
       "3           4  2015-07-01  No Promotion    139.0      1        700.0   \n",
       "4           5  2015-07-01  No Promotion     99.0      1        700.0   \n",
       "\n",
       "   discount    product_category product_subcategory  product_vertical  \n",
       "0     610.0  EntertainmentSmall           HomeAudio  HomeAudioSpeaker  \n",
       "1      90.0  EntertainmentSmall             Speaker     LaptopSpeaker  \n",
       "2    6000.0      GamingHardware     GamingAccessory           GamePad  \n",
       "3     561.0  EntertainmentSmall        TVVideoSmall     RemoteControl  \n",
       "4     601.0  EntertainmentSmall        TVVideoSmall     RemoteControl  "
      ]
     },
     "execution_count": 28,
     "metadata": {},
     "output_type": "execute_result"
    }
   ],
   "source": [
    "#Verify data loaded\n",
    "transactions.head()"
   ]
  },
  {
   "cell_type": "code",
   "execution_count": 29,
   "id": "5e8750da",
   "metadata": {},
   "outputs": [
    {
     "name": "stdout",
     "output_type": "stream",
     "text": [
      "transactions dtypes: \n",
      " Date                    object\n",
      "Sales_name              object\n",
      "gmv_new                float64\n",
      "units                    int64\n",
      "product_mrp            float64\n",
      "discount               float64\n",
      "product_category        object\n",
      "product_subcategory     object\n",
      "product_vertical        object\n",
      "dtype: object\n"
     ]
    }
   ],
   "source": [
    "# Drop \"Unnamed: 0\" column because it is duplicate index from source data file\n",
    "transactions.drop('Unnamed: 0', axis=1, inplace=True)\n",
    "\n",
    "#Check data types\n",
    "print(\"transactions dtypes: \\n\", transactions.dtypes)"
   ]
  },
  {
   "cell_type": "code",
   "execution_count": 30,
   "id": "1f46889d",
   "metadata": {},
   "outputs": [],
   "source": [
    "#Convert Date from object to datetime \n",
    "transactions['Date'] = pd.to_datetime(transactions['Date'], format='%Y-%m-%d')"
   ]
  },
  {
   "cell_type": "code",
   "execution_count": 31,
   "id": "4de3a8b7",
   "metadata": {},
   "outputs": [
    {
     "data": {
      "text/html": [
       "<div>\n",
       "<style scoped>\n",
       "    .dataframe tbody tr th:only-of-type {\n",
       "        vertical-align: middle;\n",
       "    }\n",
       "\n",
       "    .dataframe tbody tr th {\n",
       "        vertical-align: top;\n",
       "    }\n",
       "\n",
       "    .dataframe thead th {\n",
       "        text-align: right;\n",
       "    }\n",
       "</style>\n",
       "<table border=\"1\" class=\"dataframe\">\n",
       "  <thead>\n",
       "    <tr style=\"text-align: right;\">\n",
       "      <th></th>\n",
       "      <th>Date</th>\n",
       "      <th>Sales_name</th>\n",
       "      <th>gmv_new</th>\n",
       "      <th>units</th>\n",
       "      <th>product_mrp</th>\n",
       "      <th>discount</th>\n",
       "      <th>product_category</th>\n",
       "      <th>product_subcategory</th>\n",
       "      <th>product_vertical</th>\n",
       "    </tr>\n",
       "  </thead>\n",
       "  <tbody>\n",
       "    <tr>\n",
       "      <th>0</th>\n",
       "      <td>2015-07-01</td>\n",
       "      <td>No Promotion</td>\n",
       "      <td>3040.0</td>\n",
       "      <td>1</td>\n",
       "      <td>3650.0</td>\n",
       "      <td>610.0</td>\n",
       "      <td>EntertainmentSmall</td>\n",
       "      <td>HomeAudio</td>\n",
       "      <td>HomeAudioSpeaker</td>\n",
       "    </tr>\n",
       "    <tr>\n",
       "      <th>1</th>\n",
       "      <td>2015-07-01</td>\n",
       "      <td>No Promotion</td>\n",
       "      <td>310.0</td>\n",
       "      <td>1</td>\n",
       "      <td>400.0</td>\n",
       "      <td>90.0</td>\n",
       "      <td>EntertainmentSmall</td>\n",
       "      <td>Speaker</td>\n",
       "      <td>LaptopSpeaker</td>\n",
       "    </tr>\n",
       "    <tr>\n",
       "      <th>2</th>\n",
       "      <td>2015-07-01</td>\n",
       "      <td>No Promotion</td>\n",
       "      <td>1999.0</td>\n",
       "      <td>1</td>\n",
       "      <td>7999.0</td>\n",
       "      <td>6000.0</td>\n",
       "      <td>GamingHardware</td>\n",
       "      <td>GamingAccessory</td>\n",
       "      <td>GamePad</td>\n",
       "    </tr>\n",
       "    <tr>\n",
       "      <th>3</th>\n",
       "      <td>2015-07-01</td>\n",
       "      <td>No Promotion</td>\n",
       "      <td>139.0</td>\n",
       "      <td>1</td>\n",
       "      <td>700.0</td>\n",
       "      <td>561.0</td>\n",
       "      <td>EntertainmentSmall</td>\n",
       "      <td>TVVideoSmall</td>\n",
       "      <td>RemoteControl</td>\n",
       "    </tr>\n",
       "    <tr>\n",
       "      <th>4</th>\n",
       "      <td>2015-07-01</td>\n",
       "      <td>No Promotion</td>\n",
       "      <td>99.0</td>\n",
       "      <td>1</td>\n",
       "      <td>700.0</td>\n",
       "      <td>601.0</td>\n",
       "      <td>EntertainmentSmall</td>\n",
       "      <td>TVVideoSmall</td>\n",
       "      <td>RemoteControl</td>\n",
       "    </tr>\n",
       "  </tbody>\n",
       "</table>\n",
       "</div>"
      ],
      "text/plain": [
       "        Date    Sales_name  gmv_new  units  product_mrp  discount  \\\n",
       "0 2015-07-01  No Promotion   3040.0      1       3650.0     610.0   \n",
       "1 2015-07-01  No Promotion    310.0      1        400.0      90.0   \n",
       "2 2015-07-01  No Promotion   1999.0      1       7999.0    6000.0   \n",
       "3 2015-07-01  No Promotion    139.0      1        700.0     561.0   \n",
       "4 2015-07-01  No Promotion     99.0      1        700.0     601.0   \n",
       "\n",
       "     product_category product_subcategory  product_vertical  \n",
       "0  EntertainmentSmall           HomeAudio  HomeAudioSpeaker  \n",
       "1  EntertainmentSmall             Speaker     LaptopSpeaker  \n",
       "2      GamingHardware     GamingAccessory           GamePad  \n",
       "3  EntertainmentSmall        TVVideoSmall     RemoteControl  \n",
       "4  EntertainmentSmall        TVVideoSmall     RemoteControl  "
      ]
     },
     "execution_count": 31,
     "metadata": {},
     "output_type": "execute_result"
    }
   ],
   "source": [
    "#Check column drop and dtype change\n",
    "transactions.head()"
   ]
  },
  {
   "cell_type": "code",
   "execution_count": 32,
   "id": "d318038a",
   "metadata": {},
   "outputs": [
    {
     "data": {
      "text/plain": [
       "Date                   datetime64[ns]\n",
       "Sales_name                     object\n",
       "gmv_new                       float64\n",
       "units                           int64\n",
       "product_mrp                   float64\n",
       "discount                      float64\n",
       "product_category               object\n",
       "product_subcategory            object\n",
       "product_vertical               object\n",
       "dtype: object"
      ]
     },
     "execution_count": 32,
     "metadata": {},
     "output_type": "execute_result"
    }
   ],
   "source": [
    "transactions.dtypes"
   ]
  },
  {
   "cell_type": "code",
   "execution_count": 33,
   "id": "d957718e",
   "metadata": {},
   "outputs": [
    {
     "data": {
      "text/html": [
       "<div>\n",
       "<style scoped>\n",
       "    .dataframe tbody tr th:only-of-type {\n",
       "        vertical-align: middle;\n",
       "    }\n",
       "\n",
       "    .dataframe tbody tr th {\n",
       "        vertical-align: top;\n",
       "    }\n",
       "\n",
       "    .dataframe thead th {\n",
       "        text-align: right;\n",
       "    }\n",
       "</style>\n",
       "<table border=\"1\" class=\"dataframe\">\n",
       "  <thead>\n",
       "    <tr style=\"text-align: right;\">\n",
       "      <th></th>\n",
       "      <th>Year</th>\n",
       "      <th>Month</th>\n",
       "      <th>Total Investment</th>\n",
       "      <th>TV</th>\n",
       "      <th>Digital</th>\n",
       "      <th>Sponsorship</th>\n",
       "      <th>Content Marketing</th>\n",
       "      <th>Online marketing</th>\n",
       "      <th>Affiliates</th>\n",
       "      <th>SEM</th>\n",
       "      <th>Radio</th>\n",
       "      <th>Other</th>\n",
       "    </tr>\n",
       "  </thead>\n",
       "  <tbody>\n",
       "    <tr>\n",
       "      <th>0</th>\n",
       "      <td>2015</td>\n",
       "      <td>7</td>\n",
       "      <td>17.1</td>\n",
       "      <td>0.2</td>\n",
       "      <td>2.5</td>\n",
       "      <td>7.4</td>\n",
       "      <td>0.0</td>\n",
       "      <td>1.3</td>\n",
       "      <td>0.5</td>\n",
       "      <td>5.0</td>\n",
       "      <td>NaN</td>\n",
       "      <td>NaN</td>\n",
       "    </tr>\n",
       "    <tr>\n",
       "      <th>1</th>\n",
       "      <td>2015</td>\n",
       "      <td>8</td>\n",
       "      <td>5.1</td>\n",
       "      <td>0.0</td>\n",
       "      <td>1.3</td>\n",
       "      <td>1.1</td>\n",
       "      <td>0.0</td>\n",
       "      <td>0.1</td>\n",
       "      <td>0.1</td>\n",
       "      <td>2.5</td>\n",
       "      <td>NaN</td>\n",
       "      <td>NaN</td>\n",
       "    </tr>\n",
       "    <tr>\n",
       "      <th>2</th>\n",
       "      <td>2015</td>\n",
       "      <td>9</td>\n",
       "      <td>96.3</td>\n",
       "      <td>3.9</td>\n",
       "      <td>1.4</td>\n",
       "      <td>62.8</td>\n",
       "      <td>0.6</td>\n",
       "      <td>16.4</td>\n",
       "      <td>5.0</td>\n",
       "      <td>6.2</td>\n",
       "      <td>NaN</td>\n",
       "      <td>NaN</td>\n",
       "    </tr>\n",
       "    <tr>\n",
       "      <th>3</th>\n",
       "      <td>2015</td>\n",
       "      <td>10</td>\n",
       "      <td>170.2</td>\n",
       "      <td>6.1</td>\n",
       "      <td>12.6</td>\n",
       "      <td>84.7</td>\n",
       "      <td>3.4</td>\n",
       "      <td>24.4</td>\n",
       "      <td>7.0</td>\n",
       "      <td>31.9</td>\n",
       "      <td>NaN</td>\n",
       "      <td>NaN</td>\n",
       "    </tr>\n",
       "    <tr>\n",
       "      <th>4</th>\n",
       "      <td>2015</td>\n",
       "      <td>11</td>\n",
       "      <td>51.2</td>\n",
       "      <td>4.2</td>\n",
       "      <td>1.3</td>\n",
       "      <td>14.2</td>\n",
       "      <td>0.2</td>\n",
       "      <td>19.6</td>\n",
       "      <td>6.6</td>\n",
       "      <td>5.2</td>\n",
       "      <td>NaN</td>\n",
       "      <td>NaN</td>\n",
       "    </tr>\n",
       "  </tbody>\n",
       "</table>\n",
       "</div>"
      ],
      "text/plain": [
       "   Year  Month  Total Investment   TV  Digital  Sponsorship  \\\n",
       "0  2015      7              17.1  0.2      2.5          7.4   \n",
       "1  2015      8               5.1  0.0      1.3          1.1   \n",
       "2  2015      9              96.3  3.9      1.4         62.8   \n",
       "3  2015     10             170.2  6.1     12.6         84.7   \n",
       "4  2015     11              51.2  4.2      1.3         14.2   \n",
       "\n",
       "   Content Marketing  Online marketing   Affiliates   SEM  Radio  Other  \n",
       "0                0.0               1.3          0.5   5.0    NaN    NaN  \n",
       "1                0.0               0.1          0.1   2.5    NaN    NaN  \n",
       "2                0.6              16.4          5.0   6.2    NaN    NaN  \n",
       "3                3.4              24.4          7.0  31.9    NaN    NaN  \n",
       "4                0.2              19.6          6.6   5.2    NaN    NaN  "
      ]
     },
     "execution_count": 33,
     "metadata": {},
     "output_type": "execute_result"
    }
   ],
   "source": [
    "#Verify data loaded\n",
    "mediaInvestment.head()"
   ]
  },
  {
   "cell_type": "code",
   "execution_count": 34,
   "id": "de2ae024",
   "metadata": {
    "scrolled": true
   },
   "outputs": [
    {
     "data": {
      "text/plain": [
       "Year                   int64\n",
       "Month                  int64\n",
       "Total Investment     float64\n",
       "TV                   float64\n",
       "Digital              float64\n",
       "Sponsorship          float64\n",
       "Content Marketing    float64\n",
       "Online marketing     float64\n",
       " Affiliates          float64\n",
       "SEM                  float64\n",
       "Radio                float64\n",
       "Other                float64\n",
       "dtype: object"
      ]
     },
     "execution_count": 34,
     "metadata": {},
     "output_type": "execute_result"
    }
   ],
   "source": [
    "#Check data types\n",
    "mediaInvestment.dtypes"
   ]
  },
  {
   "cell_type": "code",
   "execution_count": 35,
   "id": "b7e08768",
   "metadata": {},
   "outputs": [],
   "source": [
    "#Merge year and month and format as datetime to be uniform with other tables\n",
    "\n",
    "mediaInvestment['Date'] = mediaInvestment['Year'].map(str) + \"-\" + mediaInvestment['Month'].map(str)\n",
    "\n",
    "#Drop original Date & Month\n",
    "mediaInvestment.drop('Year', axis=1, inplace=True)\n",
    "mediaInvestment.drop('Month', axis=1, inplace=True)"
   ]
  },
  {
   "cell_type": "code",
   "execution_count": 36,
   "id": "934857e5",
   "metadata": {},
   "outputs": [],
   "source": [
    "#Change new Date column to datetime dtype\n",
    "mediaInvestment['Date'] = pd.to_datetime(mediaInvestment['Date'], format='%Y-%m')"
   ]
  },
  {
   "cell_type": "code",
   "execution_count": 37,
   "id": "369f2484",
   "metadata": {},
   "outputs": [
    {
     "data": {
      "text/html": [
       "<div>\n",
       "<style scoped>\n",
       "    .dataframe tbody tr th:only-of-type {\n",
       "        vertical-align: middle;\n",
       "    }\n",
       "\n",
       "    .dataframe tbody tr th {\n",
       "        vertical-align: top;\n",
       "    }\n",
       "\n",
       "    .dataframe thead th {\n",
       "        text-align: right;\n",
       "    }\n",
       "</style>\n",
       "<table border=\"1\" class=\"dataframe\">\n",
       "  <thead>\n",
       "    <tr style=\"text-align: right;\">\n",
       "      <th></th>\n",
       "      <th>Total Investment</th>\n",
       "      <th>TV</th>\n",
       "      <th>Digital</th>\n",
       "      <th>Sponsorship</th>\n",
       "      <th>Content Marketing</th>\n",
       "      <th>Online marketing</th>\n",
       "      <th>Affiliates</th>\n",
       "      <th>SEM</th>\n",
       "      <th>Radio</th>\n",
       "      <th>Other</th>\n",
       "      <th>Date</th>\n",
       "    </tr>\n",
       "  </thead>\n",
       "  <tbody>\n",
       "    <tr>\n",
       "      <th>0</th>\n",
       "      <td>17.1</td>\n",
       "      <td>0.2</td>\n",
       "      <td>2.5</td>\n",
       "      <td>7.4</td>\n",
       "      <td>0.0</td>\n",
       "      <td>1.3</td>\n",
       "      <td>0.5</td>\n",
       "      <td>5.0</td>\n",
       "      <td>NaN</td>\n",
       "      <td>NaN</td>\n",
       "      <td>2015-07-01</td>\n",
       "    </tr>\n",
       "    <tr>\n",
       "      <th>1</th>\n",
       "      <td>5.1</td>\n",
       "      <td>0.0</td>\n",
       "      <td>1.3</td>\n",
       "      <td>1.1</td>\n",
       "      <td>0.0</td>\n",
       "      <td>0.1</td>\n",
       "      <td>0.1</td>\n",
       "      <td>2.5</td>\n",
       "      <td>NaN</td>\n",
       "      <td>NaN</td>\n",
       "      <td>2015-08-01</td>\n",
       "    </tr>\n",
       "    <tr>\n",
       "      <th>2</th>\n",
       "      <td>96.3</td>\n",
       "      <td>3.9</td>\n",
       "      <td>1.4</td>\n",
       "      <td>62.8</td>\n",
       "      <td>0.6</td>\n",
       "      <td>16.4</td>\n",
       "      <td>5.0</td>\n",
       "      <td>6.2</td>\n",
       "      <td>NaN</td>\n",
       "      <td>NaN</td>\n",
       "      <td>2015-09-01</td>\n",
       "    </tr>\n",
       "    <tr>\n",
       "      <th>3</th>\n",
       "      <td>170.2</td>\n",
       "      <td>6.1</td>\n",
       "      <td>12.6</td>\n",
       "      <td>84.7</td>\n",
       "      <td>3.4</td>\n",
       "      <td>24.4</td>\n",
       "      <td>7.0</td>\n",
       "      <td>31.9</td>\n",
       "      <td>NaN</td>\n",
       "      <td>NaN</td>\n",
       "      <td>2015-10-01</td>\n",
       "    </tr>\n",
       "    <tr>\n",
       "      <th>4</th>\n",
       "      <td>51.2</td>\n",
       "      <td>4.2</td>\n",
       "      <td>1.3</td>\n",
       "      <td>14.2</td>\n",
       "      <td>0.2</td>\n",
       "      <td>19.6</td>\n",
       "      <td>6.6</td>\n",
       "      <td>5.2</td>\n",
       "      <td>NaN</td>\n",
       "      <td>NaN</td>\n",
       "      <td>2015-11-01</td>\n",
       "    </tr>\n",
       "  </tbody>\n",
       "</table>\n",
       "</div>"
      ],
      "text/plain": [
       "   Total Investment   TV  Digital  Sponsorship  Content Marketing  \\\n",
       "0              17.1  0.2      2.5          7.4                0.0   \n",
       "1               5.1  0.0      1.3          1.1                0.0   \n",
       "2              96.3  3.9      1.4         62.8                0.6   \n",
       "3             170.2  6.1     12.6         84.7                3.4   \n",
       "4              51.2  4.2      1.3         14.2                0.2   \n",
       "\n",
       "   Online marketing   Affiliates   SEM  Radio  Other       Date  \n",
       "0               1.3          0.5   5.0    NaN    NaN 2015-07-01  \n",
       "1               0.1          0.1   2.5    NaN    NaN 2015-08-01  \n",
       "2              16.4          5.0   6.2    NaN    NaN 2015-09-01  \n",
       "3              24.4          7.0  31.9    NaN    NaN 2015-10-01  \n",
       "4              19.6          6.6   5.2    NaN    NaN 2015-11-01  "
      ]
     },
     "execution_count": 37,
     "metadata": {},
     "output_type": "execute_result"
    }
   ],
   "source": [
    "#Verify merge and drop look correct\n",
    "mediaInvestment.head()"
   ]
  },
  {
   "cell_type": "code",
   "execution_count": 38,
   "id": "820b12ea",
   "metadata": {},
   "outputs": [
    {
     "data": {
      "text/html": [
       "<div>\n",
       "<style scoped>\n",
       "    .dataframe tbody tr th:only-of-type {\n",
       "        vertical-align: middle;\n",
       "    }\n",
       "\n",
       "    .dataframe tbody tr th {\n",
       "        vertical-align: top;\n",
       "    }\n",
       "\n",
       "    .dataframe thead th {\n",
       "        text-align: right;\n",
       "    }\n",
       "</style>\n",
       "<table border=\"1\" class=\"dataframe\">\n",
       "  <thead>\n",
       "    <tr style=\"text-align: right;\">\n",
       "      <th></th>\n",
       "      <th>Date</th>\n",
       "      <th>NPS</th>\n",
       "    </tr>\n",
       "  </thead>\n",
       "  <tbody>\n",
       "    <tr>\n",
       "      <th>0</th>\n",
       "      <td>7/1/2015</td>\n",
       "      <td>54.6</td>\n",
       "    </tr>\n",
       "    <tr>\n",
       "      <th>1</th>\n",
       "      <td>8/1/2015</td>\n",
       "      <td>60.0</td>\n",
       "    </tr>\n",
       "    <tr>\n",
       "      <th>2</th>\n",
       "      <td>9/1/2015</td>\n",
       "      <td>46.9</td>\n",
       "    </tr>\n",
       "    <tr>\n",
       "      <th>3</th>\n",
       "      <td>10/1/2015</td>\n",
       "      <td>44.4</td>\n",
       "    </tr>\n",
       "    <tr>\n",
       "      <th>4</th>\n",
       "      <td>11/1/2015</td>\n",
       "      <td>47.0</td>\n",
       "    </tr>\n",
       "  </tbody>\n",
       "</table>\n",
       "</div>"
      ],
      "text/plain": [
       "        Date   NPS\n",
       "0   7/1/2015  54.6\n",
       "1   8/1/2015  60.0\n",
       "2   9/1/2015  46.9\n",
       "3  10/1/2015  44.4\n",
       "4  11/1/2015  47.0"
      ]
     },
     "execution_count": 38,
     "metadata": {},
     "output_type": "execute_result"
    }
   ],
   "source": [
    "#Verify data loaded\n",
    "nps_score.head()"
   ]
  },
  {
   "cell_type": "code",
   "execution_count": 39,
   "id": "01e6e23f",
   "metadata": {},
   "outputs": [
    {
     "data": {
      "text/plain": [
       "Date     object\n",
       "NPS     float64\n",
       "dtype: object"
      ]
     },
     "execution_count": 39,
     "metadata": {},
     "output_type": "execute_result"
    }
   ],
   "source": [
    "#Check data types\n",
    "nps_score.dtypes"
   ]
  },
  {
   "cell_type": "code",
   "execution_count": 40,
   "id": "618921e5",
   "metadata": {},
   "outputs": [],
   "source": [
    "#Change Date from object to datetime\n",
    "nps_score['Date'] = pd.to_datetime(nps_score['Date'], format='%m/%d/%Y')"
   ]
  },
  {
   "cell_type": "code",
   "execution_count": 41,
   "id": "d9e9a778",
   "metadata": {},
   "outputs": [
    {
     "data": {
      "text/html": [
       "<div>\n",
       "<style scoped>\n",
       "    .dataframe tbody tr th:only-of-type {\n",
       "        vertical-align: middle;\n",
       "    }\n",
       "\n",
       "    .dataframe tbody tr th {\n",
       "        vertical-align: top;\n",
       "    }\n",
       "\n",
       "    .dataframe thead th {\n",
       "        text-align: right;\n",
       "    }\n",
       "</style>\n",
       "<table border=\"1\" class=\"dataframe\">\n",
       "  <thead>\n",
       "    <tr style=\"text-align: right;\">\n",
       "      <th></th>\n",
       "      <th>Date</th>\n",
       "      <th>NPS</th>\n",
       "    </tr>\n",
       "  </thead>\n",
       "  <tbody>\n",
       "    <tr>\n",
       "      <th>0</th>\n",
       "      <td>2015-07-01</td>\n",
       "      <td>54.6</td>\n",
       "    </tr>\n",
       "    <tr>\n",
       "      <th>1</th>\n",
       "      <td>2015-08-01</td>\n",
       "      <td>60.0</td>\n",
       "    </tr>\n",
       "    <tr>\n",
       "      <th>2</th>\n",
       "      <td>2015-09-01</td>\n",
       "      <td>46.9</td>\n",
       "    </tr>\n",
       "    <tr>\n",
       "      <th>3</th>\n",
       "      <td>2015-10-01</td>\n",
       "      <td>44.4</td>\n",
       "    </tr>\n",
       "    <tr>\n",
       "      <th>4</th>\n",
       "      <td>2015-11-01</td>\n",
       "      <td>47.0</td>\n",
       "    </tr>\n",
       "  </tbody>\n",
       "</table>\n",
       "</div>"
      ],
      "text/plain": [
       "        Date   NPS\n",
       "0 2015-07-01  54.6\n",
       "1 2015-08-01  60.0\n",
       "2 2015-09-01  46.9\n",
       "3 2015-10-01  44.4\n",
       "4 2015-11-01  47.0"
      ]
     },
     "execution_count": 41,
     "metadata": {},
     "output_type": "execute_result"
    }
   ],
   "source": [
    "#Verify data still looks correct\n",
    "nps_score.head()"
   ]
  },
  {
   "cell_type": "code",
   "execution_count": 83,
   "id": "6c3b1c9d",
   "metadata": {},
   "outputs": [
    {
     "data": {
      "text/html": [
       "<div>\n",
       "<style scoped>\n",
       "    .dataframe tbody tr th:only-of-type {\n",
       "        vertical-align: middle;\n",
       "    }\n",
       "\n",
       "    .dataframe tbody tr th {\n",
       "        vertical-align: top;\n",
       "    }\n",
       "\n",
       "    .dataframe thead th {\n",
       "        text-align: right;\n",
       "    }\n",
       "</style>\n",
       "<table border=\"1\" class=\"dataframe\">\n",
       "  <thead>\n",
       "    <tr style=\"text-align: right;\">\n",
       "      <th></th>\n",
       "      <th>ID</th>\n",
       "      <th>Date</th>\n",
       "      <th>ID_Order</th>\n",
       "      <th>ID_Item_ordered</th>\n",
       "      <th>GMV</th>\n",
       "      <th>Units_sold</th>\n",
       "      <th>SLA</th>\n",
       "      <th>Product_Category</th>\n",
       "      <th>Analytic_Category</th>\n",
       "      <th>Sub_category</th>\n",
       "      <th>product_analytic_vertical</th>\n",
       "      <th>MRP</th>\n",
       "      <th>Procurement_SLA</th>\n",
       "    </tr>\n",
       "  </thead>\n",
       "  <tbody>\n",
       "    <tr>\n",
       "      <th>0</th>\n",
       "      <td>ACCCX3S58G7B5F6P</td>\n",
       "      <td>17-10-2015 15:11</td>\n",
       "      <td>3.420000e+15</td>\n",
       "      <td>3.420000e+15</td>\n",
       "      <td>6400</td>\n",
       "      <td>1</td>\n",
       "      <td>5</td>\n",
       "      <td>CE</td>\n",
       "      <td>CameraAccessory</td>\n",
       "      <td>CameraAccessory</td>\n",
       "      <td>CameraTripod</td>\n",
       "      <td>7190</td>\n",
       "      <td>0</td>\n",
       "    </tr>\n",
       "    <tr>\n",
       "      <th>1</th>\n",
       "      <td>ACCCX3S58G7B5F6P</td>\n",
       "      <td>19-10-2015 10:07</td>\n",
       "      <td>1.420000e+15</td>\n",
       "      <td>1.420000e+15</td>\n",
       "      <td>6900</td>\n",
       "      <td>1</td>\n",
       "      <td>7</td>\n",
       "      <td>CE</td>\n",
       "      <td>CameraAccessory</td>\n",
       "      <td>CameraAccessory</td>\n",
       "      <td>CameraTripod</td>\n",
       "      <td>7190</td>\n",
       "      <td>0</td>\n",
       "    </tr>\n",
       "    <tr>\n",
       "      <th>2</th>\n",
       "      <td>ACCCX3S5AHMF55FV</td>\n",
       "      <td>20-10-2015 15:45</td>\n",
       "      <td>2.420000e+15</td>\n",
       "      <td>2.420000e+15</td>\n",
       "      <td>1990</td>\n",
       "      <td>1</td>\n",
       "      <td>10</td>\n",
       "      <td>CE</td>\n",
       "      <td>CameraAccessory</td>\n",
       "      <td>CameraAccessory</td>\n",
       "      <td>CameraTripod</td>\n",
       "      <td>2099</td>\n",
       "      <td>3</td>\n",
       "    </tr>\n",
       "    <tr>\n",
       "      <th>3</th>\n",
       "      <td>ACCCX3S5AHMF55FV</td>\n",
       "      <td>14-10-2015 12:05</td>\n",
       "      <td>4.420000e+15</td>\n",
       "      <td>4.420000e+15</td>\n",
       "      <td>1690</td>\n",
       "      <td>1</td>\n",
       "      <td>4</td>\n",
       "      <td>CE</td>\n",
       "      <td>CameraAccessory</td>\n",
       "      <td>CameraAccessory</td>\n",
       "      <td>CameraTripod</td>\n",
       "      <td>2099</td>\n",
       "      <td>3</td>\n",
       "    </tr>\n",
       "    <tr>\n",
       "      <th>4</th>\n",
       "      <td>ACCCX3S5AHMF55FV</td>\n",
       "      <td>17-10-2015 21:25</td>\n",
       "      <td>4.420000e+15</td>\n",
       "      <td>4.420000e+15</td>\n",
       "      <td>1618</td>\n",
       "      <td>1</td>\n",
       "      <td>6</td>\n",
       "      <td>CE</td>\n",
       "      <td>CameraAccessory</td>\n",
       "      <td>CameraAccessory</td>\n",
       "      <td>CameraTripod</td>\n",
       "      <td>2099</td>\n",
       "      <td>3</td>\n",
       "    </tr>\n",
       "  </tbody>\n",
       "</table>\n",
       "</div>"
      ],
      "text/plain": [
       "                 ID              Date      ID_Order  ID_Item_ordered   GMV  \\\n",
       "0  ACCCX3S58G7B5F6P  17-10-2015 15:11  3.420000e+15     3.420000e+15  6400   \n",
       "1  ACCCX3S58G7B5F6P  19-10-2015 10:07  1.420000e+15     1.420000e+15  6900   \n",
       "2  ACCCX3S5AHMF55FV  20-10-2015 15:45  2.420000e+15     2.420000e+15  1990   \n",
       "3  ACCCX3S5AHMF55FV  14-10-2015 12:05  4.420000e+15     4.420000e+15  1690   \n",
       "4  ACCCX3S5AHMF55FV  17-10-2015 21:25  4.420000e+15     4.420000e+15  1618   \n",
       "\n",
       "   Units_sold  SLA Product_Category Analytic_Category     Sub_category  \\\n",
       "0           1    5               CE   CameraAccessory  CameraAccessory   \n",
       "1           1    7               CE   CameraAccessory  CameraAccessory   \n",
       "2           1   10               CE   CameraAccessory  CameraAccessory   \n",
       "3           1    4               CE   CameraAccessory  CameraAccessory   \n",
       "4           1    6               CE   CameraAccessory  CameraAccessory   \n",
       "\n",
       "  product_analytic_vertical   MRP  Procurement_SLA  \n",
       "0              CameraTripod  7190                0  \n",
       "1              CameraTripod  7190                0  \n",
       "2              CameraTripod  2099                3  \n",
       "3              CameraTripod  2099                3  \n",
       "4              CameraTripod  2099                3  "
      ]
     },
     "execution_count": 83,
     "metadata": {},
     "output_type": "execute_result"
    }
   ],
   "source": [
    "#Verify data loaded with tab delimiting \n",
    "sales.head()"
   ]
  },
  {
   "cell_type": "code",
   "execution_count": 84,
   "id": "1d2a2006",
   "metadata": {},
   "outputs": [
    {
     "data": {
      "text/plain": [
       "ID                            object\n",
       "Date                          object\n",
       "ID_Order                     float64\n",
       "ID_Item_ordered              float64\n",
       "GMV                           object\n",
       "Units_sold                     int64\n",
       "SLA                            int64\n",
       "Product_Category              object\n",
       "Analytic_Category             object\n",
       "Sub_category                  object\n",
       "product_analytic_vertical     object\n",
       "MRP                            int64\n",
       "Procurement_SLA                int64\n",
       "dtype: object"
      ]
     },
     "execution_count": 84,
     "metadata": {},
     "output_type": "execute_result"
    }
   ],
   "source": [
    "sales.dtypes"
   ]
  },
  {
   "cell_type": "code",
   "execution_count": 85,
   "id": "3ff0434b",
   "metadata": {},
   "outputs": [],
   "source": [
    "# Copy datetime data to new column so date only can be isolated\n",
    "sales['Time']= sales['Date']\n",
    "\n",
    "#Remove time stamp from Date column\n",
    "sales['Date']= sales['Date'].str.split(\" \").str[0]\n",
    "\n",
    "#Change Date and Time columns to datetime dtypes\n",
    "sales['Date'] = pd.to_datetime(sales['Date'], format='%d-%m-%Y')"
   ]
  },
  {
   "cell_type": "code",
   "execution_count": 86,
   "id": "d797fc50",
   "metadata": {
    "scrolled": true
   },
   "outputs": [
    {
     "data": {
      "text/html": [
       "<div>\n",
       "<style scoped>\n",
       "    .dataframe tbody tr th:only-of-type {\n",
       "        vertical-align: middle;\n",
       "    }\n",
       "\n",
       "    .dataframe tbody tr th {\n",
       "        vertical-align: top;\n",
       "    }\n",
       "\n",
       "    .dataframe thead th {\n",
       "        text-align: right;\n",
       "    }\n",
       "</style>\n",
       "<table border=\"1\" class=\"dataframe\">\n",
       "  <thead>\n",
       "    <tr style=\"text-align: right;\">\n",
       "      <th></th>\n",
       "      <th>ID</th>\n",
       "      <th>Date</th>\n",
       "      <th>ID_Order</th>\n",
       "      <th>ID_Item_ordered</th>\n",
       "      <th>GMV</th>\n",
       "      <th>Units_sold</th>\n",
       "      <th>SLA</th>\n",
       "      <th>Product_Category</th>\n",
       "      <th>Analytic_Category</th>\n",
       "      <th>Sub_category</th>\n",
       "      <th>product_analytic_vertical</th>\n",
       "      <th>MRP</th>\n",
       "      <th>Procurement_SLA</th>\n",
       "      <th>Time</th>\n",
       "    </tr>\n",
       "  </thead>\n",
       "  <tbody>\n",
       "    <tr>\n",
       "      <th>0</th>\n",
       "      <td>ACCCX3S58G7B5F6P</td>\n",
       "      <td>2015-10-17</td>\n",
       "      <td>3.420000e+15</td>\n",
       "      <td>3.420000e+15</td>\n",
       "      <td>6400</td>\n",
       "      <td>1</td>\n",
       "      <td>5</td>\n",
       "      <td>CE</td>\n",
       "      <td>CameraAccessory</td>\n",
       "      <td>CameraAccessory</td>\n",
       "      <td>CameraTripod</td>\n",
       "      <td>7190</td>\n",
       "      <td>0</td>\n",
       "      <td>17-10-2015 15:11</td>\n",
       "    </tr>\n",
       "    <tr>\n",
       "      <th>1</th>\n",
       "      <td>ACCCX3S58G7B5F6P</td>\n",
       "      <td>2015-10-19</td>\n",
       "      <td>1.420000e+15</td>\n",
       "      <td>1.420000e+15</td>\n",
       "      <td>6900</td>\n",
       "      <td>1</td>\n",
       "      <td>7</td>\n",
       "      <td>CE</td>\n",
       "      <td>CameraAccessory</td>\n",
       "      <td>CameraAccessory</td>\n",
       "      <td>CameraTripod</td>\n",
       "      <td>7190</td>\n",
       "      <td>0</td>\n",
       "      <td>19-10-2015 10:07</td>\n",
       "    </tr>\n",
       "    <tr>\n",
       "      <th>2</th>\n",
       "      <td>ACCCX3S5AHMF55FV</td>\n",
       "      <td>2015-10-20</td>\n",
       "      <td>2.420000e+15</td>\n",
       "      <td>2.420000e+15</td>\n",
       "      <td>1990</td>\n",
       "      <td>1</td>\n",
       "      <td>10</td>\n",
       "      <td>CE</td>\n",
       "      <td>CameraAccessory</td>\n",
       "      <td>CameraAccessory</td>\n",
       "      <td>CameraTripod</td>\n",
       "      <td>2099</td>\n",
       "      <td>3</td>\n",
       "      <td>20-10-2015 15:45</td>\n",
       "    </tr>\n",
       "    <tr>\n",
       "      <th>3</th>\n",
       "      <td>ACCCX3S5AHMF55FV</td>\n",
       "      <td>2015-10-14</td>\n",
       "      <td>4.420000e+15</td>\n",
       "      <td>4.420000e+15</td>\n",
       "      <td>1690</td>\n",
       "      <td>1</td>\n",
       "      <td>4</td>\n",
       "      <td>CE</td>\n",
       "      <td>CameraAccessory</td>\n",
       "      <td>CameraAccessory</td>\n",
       "      <td>CameraTripod</td>\n",
       "      <td>2099</td>\n",
       "      <td>3</td>\n",
       "      <td>14-10-2015 12:05</td>\n",
       "    </tr>\n",
       "    <tr>\n",
       "      <th>4</th>\n",
       "      <td>ACCCX3S5AHMF55FV</td>\n",
       "      <td>2015-10-17</td>\n",
       "      <td>4.420000e+15</td>\n",
       "      <td>4.420000e+15</td>\n",
       "      <td>1618</td>\n",
       "      <td>1</td>\n",
       "      <td>6</td>\n",
       "      <td>CE</td>\n",
       "      <td>CameraAccessory</td>\n",
       "      <td>CameraAccessory</td>\n",
       "      <td>CameraTripod</td>\n",
       "      <td>2099</td>\n",
       "      <td>3</td>\n",
       "      <td>17-10-2015 21:25</td>\n",
       "    </tr>\n",
       "  </tbody>\n",
       "</table>\n",
       "</div>"
      ],
      "text/plain": [
       "                 ID       Date      ID_Order  ID_Item_ordered   GMV  \\\n",
       "0  ACCCX3S58G7B5F6P 2015-10-17  3.420000e+15     3.420000e+15  6400   \n",
       "1  ACCCX3S58G7B5F6P 2015-10-19  1.420000e+15     1.420000e+15  6900   \n",
       "2  ACCCX3S5AHMF55FV 2015-10-20  2.420000e+15     2.420000e+15  1990   \n",
       "3  ACCCX3S5AHMF55FV 2015-10-14  4.420000e+15     4.420000e+15  1690   \n",
       "4  ACCCX3S5AHMF55FV 2015-10-17  4.420000e+15     4.420000e+15  1618   \n",
       "\n",
       "   Units_sold  SLA Product_Category Analytic_Category     Sub_category  \\\n",
       "0           1    5               CE   CameraAccessory  CameraAccessory   \n",
       "1           1    7               CE   CameraAccessory  CameraAccessory   \n",
       "2           1   10               CE   CameraAccessory  CameraAccessory   \n",
       "3           1    4               CE   CameraAccessory  CameraAccessory   \n",
       "4           1    6               CE   CameraAccessory  CameraAccessory   \n",
       "\n",
       "  product_analytic_vertical   MRP  Procurement_SLA              Time  \n",
       "0              CameraTripod  7190                0  17-10-2015 15:11  \n",
       "1              CameraTripod  7190                0  19-10-2015 10:07  \n",
       "2              CameraTripod  2099                3  20-10-2015 15:45  \n",
       "3              CameraTripod  2099                3  14-10-2015 12:05  \n",
       "4              CameraTripod  2099                3  17-10-2015 21:25  "
      ]
     },
     "execution_count": 86,
     "metadata": {},
     "output_type": "execute_result"
    }
   ],
   "source": [
    "#Check columns were split correctly\n",
    "sales.head()"
   ]
  },
  {
   "cell_type": "code",
   "execution_count": 87,
   "id": "ab659c04",
   "metadata": {},
   "outputs": [
    {
     "data": {
      "text/plain": [
       "ID                                   object\n",
       "Date                         datetime64[ns]\n",
       "ID_Order                            float64\n",
       "ID_Item_ordered                     float64\n",
       "GMV                                  object\n",
       "Units_sold                            int64\n",
       "SLA                                   int64\n",
       "Product_Category                     object\n",
       "Analytic_Category                    object\n",
       "Sub_category                         object\n",
       "product_analytic_vertical            object\n",
       "MRP                                   int64\n",
       "Procurement_SLA                       int64\n",
       "Time                                 object\n",
       "dtype: object"
      ]
     },
     "execution_count": 87,
     "metadata": {},
     "output_type": "execute_result"
    }
   ],
   "source": [
    "sales.dtypes"
   ]
  },
  {
   "cell_type": "code",
   "execution_count": 89,
   "id": "316acaef",
   "metadata": {
    "scrolled": true
   },
   "outputs": [
    {
     "name": "stdout",
     "output_type": "stream",
     "text": [
      "(1578079, 9)\n",
      "(12, 11)\n",
      "(12, 2)\n",
      "(1048575, 14)\n"
     ]
    }
   ],
   "source": [
    "#Check dimensions of data frames\n",
    "print(transactions.shape)\n",
    "print(mediaInvestment.shape)\n",
    "print(nps_score.shape)\n",
    "print(sales.shape)"
   ]
  },
  {
   "cell_type": "code",
   "execution_count": 90,
   "id": "1b4f8238",
   "metadata": {},
   "outputs": [
    {
     "name": "stdout",
     "output_type": "stream",
     "text": [
      "transactions nulls: \n",
      " Date                   0\n",
      "Sales_name             0\n",
      "gmv_new                0\n",
      "units                  0\n",
      "product_mrp            0\n",
      "discount               0\n",
      "product_category       0\n",
      "product_subcategory    0\n",
      "product_vertical       0\n",
      "dtype: int64\n",
      "\n",
      " media nulls: \n",
      " Total Investment     0\n",
      "TV                   0\n",
      "Digital              0\n",
      "Sponsorship          0\n",
      "Content Marketing    0\n",
      "Online marketing     0\n",
      " Affiliates          0\n",
      "SEM                  0\n",
      "Radio                9\n",
      "Other                9\n",
      "Date                 0\n",
      "dtype: int64 \n",
      "\n",
      "\n",
      " nps nulls: \n",
      " Date    0\n",
      "NPS     0\n",
      "dtype: int64 \n",
      "\n",
      "\n",
      " sales nulls: \n",
      " ID                           0\n",
      "Date                         0\n",
      "ID_Order                     0\n",
      "ID_Item_ordered              0\n",
      "GMV                          0\n",
      "Units_sold                   0\n",
      "SLA                          0\n",
      "Product_Category             0\n",
      "Analytic_Category            0\n",
      "Sub_category                 0\n",
      "product_analytic_vertical    0\n",
      "MRP                          0\n",
      "Procurement_SLA              0\n",
      "Time                         0\n",
      "dtype: int64\n"
     ]
    }
   ],
   "source": [
    "#Check for null values\n",
    "print(\"transactions nulls: \\n\", transactions.isnull().sum())\n",
    "print(\"\\n media nulls: \\n\", mediaInvestment.isnull().sum(), \"\\n\")\n",
    "print(\"\\n nps nulls: \\n\", nps_score.isnull().sum(), \"\\n\")\n",
    "print(\"\\n sales nulls: \\n\", sales.isnull().sum())"
   ]
  },
  {
   "cell_type": "markdown",
   "id": "169c9306",
   "metadata": {},
   "source": [
    "radio and other nulls are blank in source data. Will replace with 0 for $0 dollars spent since we don't want to drop the row and we want to see if radio or other had impact on sales."
   ]
  },
  {
   "cell_type": "code",
   "execution_count": 91,
   "id": "da26392e",
   "metadata": {},
   "outputs": [],
   "source": [
    "#Replace NaN values with zero \n",
    "mediaInvestment['Radio'] = mediaInvestment['Radio'].replace(np.nan, 0)\n",
    "mediaInvestment['Other'] = mediaInvestment['Other'].replace(np.nan, 0)"
   ]
  },
  {
   "cell_type": "code",
   "execution_count": 92,
   "id": "f1937204",
   "metadata": {},
   "outputs": [
    {
     "name": "stdout",
     "output_type": "stream",
     "text": [
      "Media nulls: \n",
      " Total Investment     0\n",
      "TV                   0\n",
      "Digital              0\n",
      "Sponsorship          0\n",
      "Content Marketing    0\n",
      "Online marketing     0\n",
      " Affiliates          0\n",
      "SEM                  0\n",
      "Radio                0\n",
      "Other                0\n",
      "Date                 0\n",
      "dtype: int64\n"
     ]
    }
   ],
   "source": [
    "#Make sure nulls were converted\n",
    "print(\"Media nulls: \\n\", mediaInvestment.isnull().sum())"
   ]
  },
  {
   "cell_type": "code",
   "execution_count": 93,
   "id": "d6f0c525",
   "metadata": {},
   "outputs": [
    {
     "data": {
      "text/html": [
       "<div>\n",
       "<style scoped>\n",
       "    .dataframe tbody tr th:only-of-type {\n",
       "        vertical-align: middle;\n",
       "    }\n",
       "\n",
       "    .dataframe tbody tr th {\n",
       "        vertical-align: top;\n",
       "    }\n",
       "\n",
       "    .dataframe thead th {\n",
       "        text-align: right;\n",
       "    }\n",
       "</style>\n",
       "<table border=\"1\" class=\"dataframe\">\n",
       "  <thead>\n",
       "    <tr style=\"text-align: right;\">\n",
       "      <th></th>\n",
       "      <th>gmv_new</th>\n",
       "      <th>units</th>\n",
       "      <th>product_mrp</th>\n",
       "      <th>discount</th>\n",
       "    </tr>\n",
       "  </thead>\n",
       "  <tbody>\n",
       "    <tr>\n",
       "      <th>count</th>\n",
       "      <td>1.578079e+06</td>\n",
       "      <td>1.578079e+06</td>\n",
       "      <td>1.578079e+06</td>\n",
       "      <td>1.578079e+06</td>\n",
       "    </tr>\n",
       "    <tr>\n",
       "      <th>mean</th>\n",
       "      <td>2.461679e+03</td>\n",
       "      <td>1.021809e+00</td>\n",
       "      <td>4.257890e+03</td>\n",
       "      <td>1.796212e+03</td>\n",
       "    </tr>\n",
       "    <tr>\n",
       "      <th>std</th>\n",
       "      <td>5.640023e+03</td>\n",
       "      <td>2.493014e-01</td>\n",
       "      <td>8.793679e+03</td>\n",
       "      <td>4.276790e+03</td>\n",
       "    </tr>\n",
       "    <tr>\n",
       "      <th>min</th>\n",
       "      <td>1.000000e+01</td>\n",
       "      <td>1.000000e+00</td>\n",
       "      <td>4.900000e+01</td>\n",
       "      <td>1.697040e-02</td>\n",
       "    </tr>\n",
       "    <tr>\n",
       "      <th>25%</th>\n",
       "      <td>3.390000e+02</td>\n",
       "      <td>1.000000e+00</td>\n",
       "      <td>8.000000e+02</td>\n",
       "      <td>3.100000e+02</td>\n",
       "    </tr>\n",
       "    <tr>\n",
       "      <th>50%</th>\n",
       "      <td>7.490000e+02</td>\n",
       "      <td>1.000000e+00</td>\n",
       "      <td>1.600000e+03</td>\n",
       "      <td>7.000000e+02</td>\n",
       "    </tr>\n",
       "    <tr>\n",
       "      <th>75%</th>\n",
       "      <td>1.998000e+03</td>\n",
       "      <td>1.000000e+00</td>\n",
       "      <td>3.499000e+03</td>\n",
       "      <td>1.549000e+03</td>\n",
       "    </tr>\n",
       "    <tr>\n",
       "      <th>max</th>\n",
       "      <td>2.269470e+05</td>\n",
       "      <td>5.000000e+01</td>\n",
       "      <td>4.200000e+05</td>\n",
       "      <td>4.183530e+05</td>\n",
       "    </tr>\n",
       "  </tbody>\n",
       "</table>\n",
       "</div>"
      ],
      "text/plain": [
       "            gmv_new         units   product_mrp      discount\n",
       "count  1.578079e+06  1.578079e+06  1.578079e+06  1.578079e+06\n",
       "mean   2.461679e+03  1.021809e+00  4.257890e+03  1.796212e+03\n",
       "std    5.640023e+03  2.493014e-01  8.793679e+03  4.276790e+03\n",
       "min    1.000000e+01  1.000000e+00  4.900000e+01  1.697040e-02\n",
       "25%    3.390000e+02  1.000000e+00  8.000000e+02  3.100000e+02\n",
       "50%    7.490000e+02  1.000000e+00  1.600000e+03  7.000000e+02\n",
       "75%    1.998000e+03  1.000000e+00  3.499000e+03  1.549000e+03\n",
       "max    2.269470e+05  5.000000e+01  4.200000e+05  4.183530e+05"
      ]
     },
     "execution_count": 93,
     "metadata": {},
     "output_type": "execute_result"
    }
   ],
   "source": [
    "#Descriptive numerical statistics\n",
    "transactions.describe()"
   ]
  },
  {
   "cell_type": "markdown",
   "id": "bcf208a7",
   "metadata": {},
   "source": [
    "## EDA"
   ]
  },
  {
   "cell_type": "code",
   "execution_count": 94,
   "id": "271ce20b",
   "metadata": {},
   "outputs": [
    {
     "name": "stdout",
     "output_type": "stream",
     "text": [
      "date count 1578079\n",
      "date unique count  360\n",
      "date range  2015-07-01 00:00:00   2016-06-30 00:00:00 \n",
      "\n",
      "sale name count  1578079\n",
      "sale name unique count  13\n",
      "sale name  ['No Promotion' 'Eid & Rathayatra sale' 'Independence Sale'\n",
      " 'Rakshabandhan Sale' 'Daussera sale' 'Big Diwali Sale'\n",
      " 'Christmas & New Year Sale' 'Republic Day' 'BED' \"Valentine's Day\" 'FHSD'\n",
      " 'BSD-5' 'Pacman'] \n",
      "\n",
      "Category count  1578079\n",
      "Category unique count  5 \n",
      "\n",
      "Category  ['EntertainmentSmall' 'GamingHardware' 'CameraAccessory' 'GameCDDVD'\n",
      " 'Camera'] \n",
      "\n",
      "Subcategory count  1578079\n",
      "Subcategory unique count  14 \n",
      "\n",
      "Subcategory  ['HomeAudio' 'Speaker' 'GamingAccessory' 'TVVideoSmall' 'CameraStorage'\n",
      " 'AudioMP3Player' 'Game' 'CameraAccessory' 'Camera' 'AmplifierReceiver'\n",
      " 'GamingConsole' 'AudioAccessory' 'HomeTheatre' 'GameMembershipCards'] \n",
      "\n",
      "Vertical count  1578079\n",
      "Vertical unique count  72\n",
      "Vertical  ['HomeAudioSpeaker' 'LaptopSpeaker' 'GamePad' 'RemoteControl'\n",
      " 'CameraStorageMemoryCard' 'AudioMP3Player' 'SelectorBox' 'PhysicalGame'\n",
      " 'BoomBox' 'GamingMouse' 'CameraTripod' 'CameraBattery' 'GamingHeadset'\n",
      " 'MobileSpeaker' 'CameraBag' 'GamingMousePad' 'DSLR' 'Binoculars'\n",
      " 'AmplifierReceiver' 'Point & Shoot' 'HandheldGamingConsole' 'Microphone'\n",
      " 'VideoPlayer' 'CameraRemoteControl' 'Lens' 'GamingKeyboard'\n",
      " 'CameraBatteryCharger' 'FMRadio' 'GamingConsole' 'VoiceRecorder'\n",
      " 'CameraAccessory' 'GamingAccessoryKit' 'TVOutCableAccessory' 'Flash'\n",
      " 'Camcorders' 'Filter' 'GamingAdapter' 'JoystickGamingWheel' 'HiFiSystem'\n",
      " 'VideoGlasses' 'Instant Cameras' 'MicrophoneAccessory' 'Telescope'\n",
      " 'GamingMemoryCard' 'CameraMount' 'MotionController' 'CameraBatteryGrip'\n",
      " 'Dock' 'Strap' 'DJController' 'DockingStation' '\\\\N' 'SportsAndAction'\n",
      " 'GamingSpeaker' 'ExtensionTube' 'HomeTheatre' 'CodeInTheBoxGame'\n",
      " 'CameraFilmRolls' 'KaraokePlayer' 'SlingBox' 'CoolingPad'\n",
      " 'GamingChargingStation' 'CameraEyeCup' 'GameControlMount' 'SoundMixer'\n",
      " 'CameraMicrophone' 'GameValueCards' 'Softbox' 'FlashShoeAdapter'\n",
      " 'Teleconverter' 'ReflectorUmbrella' 'CameraHousing']\n"
     ]
    }
   ],
   "source": [
    "#Object data descriptions\n",
    "print(\"date count\", transactions.Date.count())\n",
    "print(\"date unique count \", transactions.Date.nunique())\n",
    "print(\"date range \", transactions.Date.min(), \" \", transactions.Date.max(), \"\\n\")\n",
    "\n",
    "\n",
    "print(\"sale name count \", transactions.Sales_name.count())\n",
    "print(\"sale name unique count \", transactions.Sales_name.nunique())\n",
    "print(\"sale name \", transactions.Sales_name.unique(), \"\\n\")\n",
    "\n",
    "print(\"Category count \", transactions.product_category.count())\n",
    "print(\"Category unique count \", transactions.product_category.nunique(), \"\\n\")\n",
    "print(\"Category \", transactions.product_category.unique(), \"\\n\")\n",
    "\n",
    "print(\"Subcategory count \", transactions.product_subcategory.count())\n",
    "print(\"Subcategory unique count \", transactions.product_subcategory.nunique(), \"\\n\")\n",
    "print(\"Subcategory \", transactions.product_subcategory.unique(), \"\\n\")\n",
    "\n",
    "print(\"Vertical count \", transactions.product_vertical.count())\n",
    "print(\"Vertical unique count \", transactions.product_vertical.nunique())\n",
    "print(\"Vertical \", transactions.product_vertical.unique())"
   ]
  },
  {
   "cell_type": "code",
   "execution_count": 108,
   "id": "a4dc5967",
   "metadata": {},
   "outputs": [
    {
     "data": {
      "text/plain": [
       "<AxesSubplot:>"
      ]
     },
     "execution_count": 108,
     "metadata": {},
     "output_type": "execute_result"
    },
    {
     "data": {
      "image/png": "[encoded data removed]",
      "text/plain": [
       "<Figure size 864x720 with 2 Axes>"
      ]
     },
     "metadata": {
      "needs_background": "light"
     },
     "output_type": "display_data"
    }
   ],
   "source": [
    "# Check correlation of transactions data\n",
    "transactions_corr = transactions.corr()\n",
    "plt.subplots(figsize=(12,10))\n",
    "sns.heatmap(transactions_corr, cmap='YlGnBu', linewidth=.005, annot=True)"
   ]
  },
  {
   "cell_type": "markdown",
   "id": "b1c8210a",
   "metadata": {},
   "source": [
    "product_mrp is highly correlated with gmv_new (revenue) and discountsince product_mrp = gmv_new + discount. product_mrp may not be used in the regression model to avoid multicolinearity."
   ]
  },
  {
   "cell_type": "code",
   "execution_count": 25,
   "id": "888671f6",
   "metadata": {},
   "outputs": [
    {
     "data": {
      "text/plain": [
       "<AxesSubplot:>"
      ]
     },
     "execution_count": 25,
     "metadata": {},
     "output_type": "execute_result"
    },
    {
     "data": {
      "image/png": "[encoded data removed]",
      "text/plain": [
       "<Figure size 864x720 with 2 Axes>"
      ]
     },
     "metadata": {
      "needs_background": "light"
     },
     "output_type": "display_data"
    }
   ],
   "source": [
    "# Check correlation of media investments data\n",
    "media_corr = mediaInvestment.corr()\n",
    "plt.subplots(figsize=(12,10))\n",
    "sns.heatmap(media_corr, cmap='YlGnBu', linewidth=.005, annot=True)"
   ]
  },
  {
   "cell_type": "code",
   "execution_count": 99,
   "id": "f351742e",
   "metadata": {},
   "outputs": [
    {
     "name": "stderr",
     "output_type": "stream",
     "text": [
      "C:\\Users\\djdit\\anaconda3\\lib\\site-packages\\seaborn\\distributions.py:2557: FutureWarning: `distplot` is a deprecated function and will be removed in a future version. Please adapt your code to use either `displot` (a figure-level function with similar flexibility) or `histplot` (an axes-level function for histograms).\n",
      "  warnings.warn(msg, FutureWarning)\n"
     ]
    },
    {
     "data": {
      "text/plain": [
       "<AxesSubplot:xlabel='gmv_new', ylabel='Density'>"
      ]
     },
     "execution_count": 99,
     "metadata": {},
     "output_type": "execute_result"
    },
    {
     "data": {
      "image/png": "[encoded data removed]",
      "text/plain": [
       "<Figure size 432x288 with 1 Axes>"
      ]
     },
     "metadata": {
      "needs_background": "light"
     },
     "output_type": "display_data"
    }
   ],
   "source": [
    "sns.distplot(transactions['gmv_new'])"
   ]
  },
  {
   "cell_type": "code",
   "execution_count": 102,
   "id": "30aa9b79",
   "metadata": {},
   "outputs": [
    {
     "name": "stderr",
     "output_type": "stream",
     "text": [
      "C:\\Users\\djdit\\anaconda3\\lib\\site-packages\\seaborn\\distributions.py:2557: FutureWarning: `distplot` is a deprecated function and will be removed in a future version. Please adapt your code to use either `displot` (a figure-level function with similar flexibility) or `histplot` (an axes-level function for histograms).\n",
      "  warnings.warn(msg, FutureWarning)\n"
     ]
    },
    {
     "data": {
      "text/plain": [
       "<AxesSubplot:xlabel='gmv_new', ylabel='Density'>"
      ]
     },
     "execution_count": 102,
     "metadata": {},
     "output_type": "execute_result"
    },
    {
     "data": {
      "image/png": "[encoded data removed]",
      "text/plain": [
       "<Figure size 432x288 with 1 Axes>"
      ]
     },
     "metadata": {
      "needs_background": "light"
     },
     "output_type": "display_data"
    }
   ],
   "source": [
    "# log transform to see if more normal distribution\n",
    "target = np.log(transactions['gmv_new'])\n",
    "sns.distplot(target)"
   ]
  },
  {
   "cell_type": "markdown",
   "id": "3d352247",
   "metadata": {},
   "source": [
    "Doesn't fit normality assumption?"
   ]
  },
  {
   "cell_type": "code",
   "execution_count": null,
   "id": "8a22046d",
   "metadata": {},
   "outputs": [],
   "source": [
    "# see if "
   ]
  }
 ],
 "metadata": {
  "kernelspec": {
   "display_name": "Python 3",
   "language": "python",
   "name": "python3"
  },
  "language_info": {
   "codemirror_mode": {
    "name": "ipython",
    "version": 3
   },
   "file_extension": ".py",
   "mimetype": "text/x-python",
   "name": "python",
   "nbconvert_exporter": "python",
   "pygments_lexer": "ipython3",
   "version": "3.8.5"
  }
 },
 "nbformat": 4,
 "nbformat_minor": 5
}
