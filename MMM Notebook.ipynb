{
 "cells": [
  {
   "cell_type": "code",
   "execution_count": 1,
   "id": "7028dde8",
   "metadata": {},
   "outputs": [],
   "source": [
    "import pandas as pd\n",
    "import numpy as np\n"
   ]
  },
  {
   "cell_type": "code",
   "execution_count": 12,
   "id": "379bd9bb",
   "metadata": {},
   "outputs": [],
   "source": [
    "promos = pd.read_csv('/Users/djdit/OneDrive - University of South Florida/Project/Data/firstfile.csv')"
   ]
  },
  {
   "cell_type": "code",
   "execution_count": 13,
   "id": "f236787c",
   "metadata": {
    "scrolled": false
   },
   "outputs": [
    {
     "data": {
      "text/html": [
       "<div>\n",
       "<style scoped>\n",
       "    .dataframe tbody tr th:only-of-type {\n",
       "        vertical-align: middle;\n",
       "    }\n",
       "\n",
       "    .dataframe tbody tr th {\n",
       "        vertical-align: top;\n",
       "    }\n",
       "\n",
       "    .dataframe thead th {\n",
       "        text-align: right;\n",
       "    }\n",
       "</style>\n",
       "<table border=\"1\" class=\"dataframe\">\n",
       "  <thead>\n",
       "    <tr style=\"text-align: right;\">\n",
       "      <th></th>\n",
       "      <th>Unnamed: 0</th>\n",
       "      <th>Date</th>\n",
       "      <th>Sales_name</th>\n",
       "      <th>gmv_new</th>\n",
       "      <th>units</th>\n",
       "      <th>product_mrp</th>\n",
       "      <th>discount</th>\n",
       "      <th>product_category</th>\n",
       "      <th>product_subcategory</th>\n",
       "      <th>product_vertical</th>\n",
       "    </tr>\n",
       "  </thead>\n",
       "  <tbody>\n",
       "    <tr>\n",
       "      <th>0</th>\n",
       "      <td>1</td>\n",
       "      <td>2015-07-01</td>\n",
       "      <td>No Promotion</td>\n",
       "      <td>3040.0</td>\n",
       "      <td>1</td>\n",
       "      <td>3650.0</td>\n",
       "      <td>610.0</td>\n",
       "      <td>EntertainmentSmall</td>\n",
       "      <td>HomeAudio</td>\n",
       "      <td>HomeAudioSpeaker</td>\n",
       "    </tr>\n",
       "    <tr>\n",
       "      <th>1</th>\n",
       "      <td>2</td>\n",
       "      <td>2015-07-01</td>\n",
       "      <td>No Promotion</td>\n",
       "      <td>310.0</td>\n",
       "      <td>1</td>\n",
       "      <td>400.0</td>\n",
       "      <td>90.0</td>\n",
       "      <td>EntertainmentSmall</td>\n",
       "      <td>Speaker</td>\n",
       "      <td>LaptopSpeaker</td>\n",
       "    </tr>\n",
       "    <tr>\n",
       "      <th>2</th>\n",
       "      <td>3</td>\n",
       "      <td>2015-07-01</td>\n",
       "      <td>No Promotion</td>\n",
       "      <td>1999.0</td>\n",
       "      <td>1</td>\n",
       "      <td>7999.0</td>\n",
       "      <td>6000.0</td>\n",
       "      <td>GamingHardware</td>\n",
       "      <td>GamingAccessory</td>\n",
       "      <td>GamePad</td>\n",
       "    </tr>\n",
       "    <tr>\n",
       "      <th>3</th>\n",
       "      <td>4</td>\n",
       "      <td>2015-07-01</td>\n",
       "      <td>No Promotion</td>\n",
       "      <td>139.0</td>\n",
       "      <td>1</td>\n",
       "      <td>700.0</td>\n",
       "      <td>561.0</td>\n",
       "      <td>EntertainmentSmall</td>\n",
       "      <td>TVVideoSmall</td>\n",
       "      <td>RemoteControl</td>\n",
       "    </tr>\n",
       "    <tr>\n",
       "      <th>4</th>\n",
       "      <td>5</td>\n",
       "      <td>2015-07-01</td>\n",
       "      <td>No Promotion</td>\n",
       "      <td>99.0</td>\n",
       "      <td>1</td>\n",
       "      <td>700.0</td>\n",
       "      <td>601.0</td>\n",
       "      <td>EntertainmentSmall</td>\n",
       "      <td>TVVideoSmall</td>\n",
       "      <td>RemoteControl</td>\n",
       "    </tr>\n",
       "  </tbody>\n",
       "</table>\n",
       "</div>"
      ],
      "text/plain": [
       "   Unnamed: 0        Date    Sales_name  gmv_new  units  product_mrp  \\\n",
       "0           1  2015-07-01  No Promotion   3040.0      1       3650.0   \n",
       "1           2  2015-07-01  No Promotion    310.0      1        400.0   \n",
       "2           3  2015-07-01  No Promotion   1999.0      1       7999.0   \n",
       "3           4  2015-07-01  No Promotion    139.0      1        700.0   \n",
       "4           5  2015-07-01  No Promotion     99.0      1        700.0   \n",
       "\n",
       "   discount    product_category product_subcategory  product_vertical  \n",
       "0     610.0  EntertainmentSmall           HomeAudio  HomeAudioSpeaker  \n",
       "1      90.0  EntertainmentSmall             Speaker     LaptopSpeaker  \n",
       "2    6000.0      GamingHardware     GamingAccessory           GamePad  \n",
       "3     561.0  EntertainmentSmall        TVVideoSmall     RemoteControl  \n",
       "4     601.0  EntertainmentSmall        TVVideoSmall     RemoteControl  "
      ]
     },
     "execution_count": 13,
     "metadata": {},
     "output_type": "execute_result"
    }
   ],
   "source": [
    "promos.head()"
   ]
  },
  {
   "cell_type": "code",
   "execution_count": 14,
   "id": "316acaef",
   "metadata": {},
   "outputs": [
    {
     "data": {
      "text/plain": [
       "(1578079, 10)"
      ]
     },
     "execution_count": 14,
     "metadata": {},
     "output_type": "execute_result"
    }
   ],
   "source": [
    "promos.shape"
   ]
  },
  {
   "cell_type": "code",
   "execution_count": 15,
   "id": "58b9669d",
   "metadata": {
    "scrolled": true
   },
   "outputs": [
    {
     "data": {
      "text/plain": [
       "Unnamed: 0               int64\n",
       "Date                    object\n",
       "Sales_name              object\n",
       "gmv_new                float64\n",
       "units                    int64\n",
       "product_mrp            float64\n",
       "discount               float64\n",
       "product_category        object\n",
       "product_subcategory     object\n",
       "product_vertical        object\n",
       "dtype: object"
      ]
     },
     "execution_count": 15,
     "metadata": {},
     "output_type": "execute_result"
    }
   ],
   "source": [
    "promos.dtypes"
   ]
  },
  {
   "cell_type": "code",
   "execution_count": 16,
   "id": "271ce20b",
   "metadata": {},
   "outputs": [
    {
     "data": {
      "text/plain": [
       "array(['No Promotion', 'Eid & Rathayatra sale', 'Independence Sale',\n",
       "       'Rakshabandhan Sale', 'Daussera sale', 'Big Diwali Sale',\n",
       "       'Christmas & New Year Sale', 'Republic Day', 'BED',\n",
       "       \"Valentine's Day\", 'FHSD', 'BSD-5', 'Pacman'], dtype=object)"
      ]
     },
     "execution_count": 16,
     "metadata": {},
     "output_type": "execute_result"
    }
   ],
   "source": [
    "promos.Sales_name.unique()"
   ]
  },
  {
   "cell_type": "code",
   "execution_count": 17,
   "id": "d6f0c525",
   "metadata": {},
   "outputs": [
    {
     "data": {
      "text/html": [
       "<div>\n",
       "<style scoped>\n",
       "    .dataframe tbody tr th:only-of-type {\n",
       "        vertical-align: middle;\n",
       "    }\n",
       "\n",
       "    .dataframe tbody tr th {\n",
       "        vertical-align: top;\n",
       "    }\n",
       "\n",
       "    .dataframe thead th {\n",
       "        text-align: right;\n",
       "    }\n",
       "</style>\n",
       "<table border=\"1\" class=\"dataframe\">\n",
       "  <thead>\n",
       "    <tr style=\"text-align: right;\">\n",
       "      <th></th>\n",
       "      <th>Unnamed: 0</th>\n",
       "      <th>gmv_new</th>\n",
       "      <th>units</th>\n",
       "      <th>product_mrp</th>\n",
       "      <th>discount</th>\n",
       "    </tr>\n",
       "  </thead>\n",
       "  <tbody>\n",
       "    <tr>\n",
       "      <th>count</th>\n",
       "      <td>1.578079e+06</td>\n",
       "      <td>1.578079e+06</td>\n",
       "      <td>1.578079e+06</td>\n",
       "      <td>1.578079e+06</td>\n",
       "      <td>1.578079e+06</td>\n",
       "    </tr>\n",
       "    <tr>\n",
       "      <th>mean</th>\n",
       "      <td>7.890400e+05</td>\n",
       "      <td>2.461679e+03</td>\n",
       "      <td>1.021809e+00</td>\n",
       "      <td>4.257890e+03</td>\n",
       "      <td>1.796212e+03</td>\n",
       "    </tr>\n",
       "    <tr>\n",
       "      <th>std</th>\n",
       "      <td>4.555523e+05</td>\n",
       "      <td>5.640023e+03</td>\n",
       "      <td>2.493014e-01</td>\n",
       "      <td>8.793679e+03</td>\n",
       "      <td>4.276790e+03</td>\n",
       "    </tr>\n",
       "    <tr>\n",
       "      <th>min</th>\n",
       "      <td>1.000000e+00</td>\n",
       "      <td>1.000000e+01</td>\n",
       "      <td>1.000000e+00</td>\n",
       "      <td>4.900000e+01</td>\n",
       "      <td>1.697040e-02</td>\n",
       "    </tr>\n",
       "    <tr>\n",
       "      <th>25%</th>\n",
       "      <td>3.945205e+05</td>\n",
       "      <td>3.390000e+02</td>\n",
       "      <td>1.000000e+00</td>\n",
       "      <td>8.000000e+02</td>\n",
       "      <td>3.100000e+02</td>\n",
       "    </tr>\n",
       "    <tr>\n",
       "      <th>50%</th>\n",
       "      <td>7.890400e+05</td>\n",
       "      <td>7.490000e+02</td>\n",
       "      <td>1.000000e+00</td>\n",
       "      <td>1.600000e+03</td>\n",
       "      <td>7.000000e+02</td>\n",
       "    </tr>\n",
       "    <tr>\n",
       "      <th>75%</th>\n",
       "      <td>1.183560e+06</td>\n",
       "      <td>1.998000e+03</td>\n",
       "      <td>1.000000e+00</td>\n",
       "      <td>3.499000e+03</td>\n",
       "      <td>1.549000e+03</td>\n",
       "    </tr>\n",
       "    <tr>\n",
       "      <th>max</th>\n",
       "      <td>1.578079e+06</td>\n",
       "      <td>2.269470e+05</td>\n",
       "      <td>5.000000e+01</td>\n",
       "      <td>4.200000e+05</td>\n",
       "      <td>4.183530e+05</td>\n",
       "    </tr>\n",
       "  </tbody>\n",
       "</table>\n",
       "</div>"
      ],
      "text/plain": [
       "         Unnamed: 0       gmv_new         units   product_mrp      discount\n",
       "count  1.578079e+06  1.578079e+06  1.578079e+06  1.578079e+06  1.578079e+06\n",
       "mean   7.890400e+05  2.461679e+03  1.021809e+00  4.257890e+03  1.796212e+03\n",
       "std    4.555523e+05  5.640023e+03  2.493014e-01  8.793679e+03  4.276790e+03\n",
       "min    1.000000e+00  1.000000e+01  1.000000e+00  4.900000e+01  1.697040e-02\n",
       "25%    3.945205e+05  3.390000e+02  1.000000e+00  8.000000e+02  3.100000e+02\n",
       "50%    7.890400e+05  7.490000e+02  1.000000e+00  1.600000e+03  7.000000e+02\n",
       "75%    1.183560e+06  1.998000e+03  1.000000e+00  3.499000e+03  1.549000e+03\n",
       "max    1.578079e+06  2.269470e+05  5.000000e+01  4.200000e+05  4.183530e+05"
      ]
     },
     "execution_count": 17,
     "metadata": {},
     "output_type": "execute_result"
    }
   ],
   "source": [
    "promos.describe()"
   ]
  },
  {
   "cell_type": "code",
   "execution_count": null,
   "id": "a4dc5967",
   "metadata": {},
   "outputs": [],
   "source": []
  }
 ],
 "metadata": {
  "kernelspec": {
   "display_name": "Python 3",
   "language": "python",
   "name": "python3"
  },
  "language_info": {
   "codemirror_mode": {
    "name": "ipython",
    "version": 3
   },
   "file_extension": ".py",
   "mimetype": "text/x-python",
   "name": "python",
   "nbconvert_exporter": "python",
   "pygments_lexer": "ipython3",
   "version": "3.8.5"
  }
 },
 "nbformat": 4,
 "nbformat_minor": 5
}
